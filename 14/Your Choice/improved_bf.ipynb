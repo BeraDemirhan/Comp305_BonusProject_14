{
 "cells": [
  {
   "cell_type": "code",
   "execution_count": null,
   "metadata": {},
   "outputs": [],
   "source": [
    "# Improved Brute Force\n",
    "def generate_problem(lines, start, input_number,max_box):\n",
    "    # generate problem\n",
    "    # lines: the lines of file\n",
    "    # start: the start index of problem\n",
    "    # input_number: the number of input\n",
    "    # max_box: the max number of box\n",
    "    # return: the problem\n",
    "    #create a graph with input number of nodes\n",
    "    \n",
    "    #create a list of nodes\n",
    "    nodes = []\n",
    "    for i in range(input_number):\n",
    "        if (i == max_box):\n",
    "            max_node = Node(i)\n",
    "            nodes.append(max_node)\n",
    "        else:\n",
    "            nodes.append(Node(i))\n",
    "    edges = []\n",
    "    for i in range(input_number):\n",
    "        for j in range(input_number):\n",
    "            if(lines[i+start][j] == 'Y'):\n",
    "                #print(\"edge\",i,j)\n",
    "                edge = Edge(nodes[i],nodes[j])\n",
    "                edges.append(edge)\n",
    "                nodes[i].add_edge(edge)\n",
    "    graph = Graph(input_number, nodes);\n",
    "    #create a list of edges\n",
    "    #add edges to graph\n",
    "    for edge in edges:\n",
    "        graph.add_edge(edge)\n",
    "    # add  nodes to graph\n",
    "    if (check_valid(graph,max_box)) == False:\n",
    "        print(\"IMPOSSIBLE\")\n",
    "    return graph, max_node\n",
    "\n",
    "def check_valid(graph, max_box):\n",
    "    # check if there exists a node that is not connected to any other node\n",
    "    for node in graph.nodes:\n",
    "        if node.edges == []:\n",
    "            return False\n",
    "    for node in graph.nodes:\n",
    "        if node.get_index == max_box:\n",
    "            if node.edges.length == graph.get_n-1:\n",
    "                return False\n",
    "        return True\n"
   ]
  }
 ],
 "metadata": {
  "interpreter": {
   "hash": "7cbd4214744612a7937c618210d0f20e0b9dece78a13efd0045e7dd74ec273d9"
  },
  "kernelspec": {
   "display_name": "Python 3.8.5",
   "language": "python",
   "name": "python3"
  },
  "language_info": {
   "name": "python",
   "version": "3.8.5"
  },
  "orig_nbformat": 4
 },
 "nbformat": 4,
 "nbformat_minor": 2
}
